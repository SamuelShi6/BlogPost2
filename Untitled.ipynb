{
 "cells": [
  {
   "cell_type": "code",
   "execution_count": 2,
   "id": "1a327f68",
   "metadata": {},
   "outputs": [],
   "source": [
    "import sqlite3"
   ]
  },
  {
   "cell_type": "code",
   "execution_count": 39,
   "id": "2c87092f",
   "metadata": {},
   "outputs": [
    {
     "name": "stdout",
     "output_type": "stream",
     "text": [
      "[('messages',)]\n"
     ]
    }
   ],
   "source": [
    "conn = sqlite3.connect(\"messages_db.sqlite\")\n",
    "c = conn.cursor()\n",
    "\n",
    "c.execute(\"SELECT name FROM sqlite_master WHERE type='table'\")\n",
    "print(c.fetchall())"
   ]
  },
  {
   "cell_type": "code",
   "execution_count": 40,
   "id": "59e5bf98",
   "metadata": {},
   "outputs": [
    {
     "name": "stdout",
     "output_type": "stream",
     "text": [
      "CREATE TABLE messages (\n",
      "\tid INTEGER PRIMARY KEY,\n",
      "\thandle TEXT NOT NULL,\n",
      "\tmessage TEXT NOT NULL\n",
      "    )\n"
     ]
    }
   ],
   "source": [
    "c.execute(\"SELECT sql FROM sqlite_master WHERE type='table';\")\n",
    "\n",
    "for result in c.fetchall():\n",
    "    print(result[0])"
   ]
  },
  {
   "cell_type": "code",
   "execution_count": 46,
   "id": "7c9513aa",
   "metadata": {
    "scrolled": true
   },
   "outputs": [
    {
     "name": "stdout",
     "output_type": "stream",
     "text": [
      "[(1, 'CL', 'hello'), (2, 'sam', 'cl shagua'), (3, 'sam', 'cl dashagua')]\n"
     ]
    }
   ],
   "source": [
    "c.execute(\"SELECT * FROM messages\")\n",
    "print(c.fetchall())"
   ]
  },
  {
   "cell_type": "code",
   "execution_count": 19,
   "id": "ff392938",
   "metadata": {},
   "outputs": [],
   "source": [
    "class fool:\n",
    "    def play():\n",
    "        print(\"play\")"
   ]
  },
  {
   "cell_type": "code",
   "execution_count": 20,
   "id": "cad87106",
   "metadata": {},
   "outputs": [],
   "source": [
    "g = fool()"
   ]
  },
  {
   "cell_type": "code",
   "execution_count": 44,
   "id": "a69beed4",
   "metadata": {},
   "outputs": [],
   "source": [
    "def get_message_db():\n",
    "    # if 'message_db' not in g:\n",
    "    try:\n",
    "        return g.message_db\n",
    "    except:\n",
    "        g.message_db = sqlite3.connect(\"msg_db.sqlite\")\n",
    "   \n",
    "        cmd = \\\n",
    "        \"\"\"\n",
    "        CREATE TABLE IF NOT EXISTS messages (\n",
    "        id INTEGER PRIMARY KEY,\n",
    "        handle TEXT NOT NULL,\n",
    "        message TEXT NOT NULL\n",
    "        );\n",
    "        \"\"\"\n",
    "        c = g.message_db.cursor()\n",
    "        c.execute(cmd)\n",
    "\n",
    "        return g.message_db\n",
    "\n",
    "def insert_message(message, handle):\n",
    "    db = get_message_db()\n",
    "    c = db.cursor()\n",
    "    current_row_number = (c.execute(\"SELECT COUNT(*) FROM messages\")).fetchone()[0]\n",
    "    current_row_number = str(current_row_number + 1)\n",
    "    print (current_row_number)\n",
    "    c.execute(f\"INSERT INTO messages VALUES ({current_row_number},'{handle}','{message}')\")\n",
    "    db.commit()\n",
    "    db.close()"
   ]
  },
  {
   "cell_type": "code",
   "execution_count": 45,
   "id": "70eb2a35",
   "metadata": {},
   "outputs": [
    {
     "name": "stdout",
     "output_type": "stream",
     "text": [
      "1\n"
     ]
    }
   ],
   "source": [
    "insert_message('hello','CL')"
   ]
  },
  {
   "cell_type": "code",
   "execution_count": null,
   "id": "d3e3919a",
   "metadata": {},
   "outputs": [],
   "source": []
  }
 ],
 "metadata": {
  "kernelspec": {
   "display_name": "Python [conda env:PIC16B] *",
   "language": "python",
   "name": "conda-env-PIC16B-py"
  },
  "language_info": {
   "codemirror_mode": {
    "name": "ipython",
    "version": 3
   },
   "file_extension": ".py",
   "mimetype": "text/x-python",
   "name": "python",
   "nbconvert_exporter": "python",
   "pygments_lexer": "ipython3",
   "version": "3.7.11"
  }
 },
 "nbformat": 4,
 "nbformat_minor": 5
}
