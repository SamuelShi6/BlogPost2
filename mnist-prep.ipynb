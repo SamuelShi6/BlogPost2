{
 "cells": [
  {
   "cell_type": "code",
   "execution_count": 31,
   "id": "8c4426fb-94ff-46ae-a63c-83b4cbd90c12",
   "metadata": {},
   "outputs": [],
   "source": [
    "import pandas as pd\n",
    "from matplotlib import pyplot as plt\n",
    "from sklearn.datasets import load_digits\n",
    "from sklearn.model_selection import train_test_split\n",
    "from sklearn.linear_model import LogisticRegression\n",
    "from sklearn.model_selection import cross_val_score\n",
    "from sklearn.metrics import confusion_matrix\n",
    "import pickle\n",
    "import numpy as np"
   ]
  },
  {
   "cell_type": "code",
   "execution_count": 12,
   "id": "e510bddb-f823-45f7-9034-bb66bf7dfb4a",
   "metadata": {},
   "outputs": [
    {
     "data": {
      "text/plain": [
       "dict_keys(['data', 'target', 'frame', 'feature_names', 'target_names', 'images', 'DESCR'])"
      ]
     },
     "execution_count": 12,
     "metadata": {},
     "output_type": "execute_result"
    }
   ],
   "source": [
    "digits = load_digits()\n",
    "digits.keys()"
   ]
  },
  {
   "cell_type": "code",
   "execution_count": 13,
   "id": "73ae2bdd-6947-4f7f-abfe-c4ba38bcf295",
   "metadata": {},
   "outputs": [
    {
     "data": {
      "text/plain": [
       "[Text(0.5, 1.0, 'True digit: 1')]"
      ]
     },
     "execution_count": 13,
     "metadata": {},
     "output_type": "execute_result"
    },
    {
     "data": {
      "image/png": "[encoded data removed]",
      "text/plain": [
       "<Figure size 432x288 with 1 Axes>"
      ]
     },
     "metadata": {
      "needs_background": "light"
     },
     "output_type": "display_data"
    }
   ],
   "source": [
    "fig, ax = plt.subplots(1)\n",
    "i = 200\n",
    "\n",
    "ax.imshow(digits['data'][i].reshape(8, 8), cmap = plt.cm.binary)\n",
    "ax.set(title = \"True digit: \" + str(digits['target'][i]))"
   ]
  },
  {
   "cell_type": "code",
   "execution_count": 14,
   "id": "719e4073-f7c7-4d53-9b3a-99b0c9243627",
   "metadata": {},
   "outputs": [],
   "source": [
    "X_train, X_test, y_train, y_test = train_test_split(digits.data, digits.target)"
   ]
  },
  {
   "cell_type": "code",
   "execution_count": 15,
   "id": "146bbb16-9940-44d4-b44c-c8f3ef3c2380",
   "metadata": {},
   "outputs": [
    {
     "data": {
      "text/plain": [
       "0.9658595909342177"
      ]
     },
     "execution_count": 15,
     "metadata": {},
     "output_type": "execute_result"
    }
   ],
   "source": [
    "m = LogisticRegression(random_state = 0, solver = \"liblinear\")\n",
    "cross_val_score(m, X_train, y_train, cv = 10).mean()"
   ]
  },
  {
   "cell_type": "code",
   "execution_count": 16,
   "id": "4b24a3d3-11a3-40de-8574-02d8c39923fa",
   "metadata": {},
   "outputs": [
    {
     "data": {
      "text/plain": [
       "LogisticRegression(random_state=0, solver='liblinear')"
      ]
     },
     "execution_count": 16,
     "metadata": {},
     "output_type": "execute_result"
    }
   ],
   "source": [
    "m.fit(X_train, y_train)"
   ]
  },
  {
   "cell_type": "code",
   "execution_count": 19,
   "id": "e386f49f-0a88-4a09-aa47-2398a3e85fe8",
   "metadata": {},
   "outputs": [
    {
     "data": {
      "text/plain": [
       "array([5, 5, 6, ..., 2, 8, 6])"
      ]
     },
     "execution_count": 19,
     "metadata": {},
     "output_type": "execute_result"
    }
   ],
   "source": [
    "y_train_pred = m.predict(X_train)\n",
    "y_train_pred"
   ]
  },
  {
   "cell_type": "code",
   "execution_count": 20,
   "id": "9374a46d-594f-4233-b169-56d38e5f9917",
   "metadata": {},
   "outputs": [
    {
     "data": {
      "text/plain": [
       "array([[130,   0,   0,   0,   0,   0,   0,   0,   0,   0],\n",
       "       [  0, 143,   0,   0,   0,   0,   0,   0,   0,   0],\n",
       "       [  0,   0, 125,   0,   0,   0,   0,   0,   0,   0],\n",
       "       [  0,   0,   0, 136,   0,   0,   0,   0,   0,   0],\n",
       "       [  0,   0,   0,   0, 138,   0,   0,   0,   0,   0],\n",
       "       [  0,   0,   0,   0,   0, 135,   0,   0,   0,   0],\n",
       "       [  0,   0,   0,   0,   0,   0, 137,   0,   0,   0],\n",
       "       [  0,   0,   0,   0,   0,   0,   0, 132,   0,   0],\n",
       "       [  0,   4,   0,   1,   0,   0,   0,   0, 130,   0],\n",
       "       [  0,   0,   0,   1,   0,   0,   0,   0,   1, 134]])"
      ]
     },
     "execution_count": 20,
     "metadata": {},
     "output_type": "execute_result"
    }
   ],
   "source": [
    "confusion_matrix(y_train, y_train_pred)"
   ]
  },
  {
   "cell_type": "code",
   "execution_count": 33,
   "id": "dff1c062-cf28-40b5-9f64-359f89271d01",
   "metadata": {},
   "outputs": [],
   "source": [
    "filename = 'mnist-model/model.pkl'\n",
    "pickle.dump(m, open(filename, 'wb'))"
   ]
  },
  {
   "cell_type": "code",
   "execution_count": 34,
   "id": "3b9f27ae-8735-4807-b9b6-2548b993b59c",
   "metadata": {},
   "outputs": [],
   "source": [
    "M = pickle.load(open(filename, 'rb'))"
   ]
  },
  {
   "cell_type": "code",
   "execution_count": 35,
   "id": "bf745cbe-36e4-4e4d-8d77-131af3584769",
   "metadata": {},
   "outputs": [
    {
     "data": {
      "text/plain": [
       "array([5, 5, 6, ..., 2, 8, 6])"
      ]
     },
     "execution_count": 35,
     "metadata": {},
     "output_type": "execute_result"
    }
   ],
   "source": [
    "y_train_pred = M.predict(X_train)\n",
    "y_train_pred"
   ]
  },
  {
   "cell_type": "code",
   "execution_count": 51,
   "id": "83633aec-37ad-42fc-888a-263273ff6f3b",
   "metadata": {},
   "outputs": [],
   "source": [
    "for i in range(10):\n",
    "    j = np.random.randint(0, digits[\"data\"].shape[0])\n",
    "    np.savetxt(\"mnist-model/sample-data/\" + str(j) + \".txt\", digits['data'][j].reshape(8, 8))"
   ]
  },
  {
   "cell_type": "code",
   "execution_count": 44,
   "id": "c3c67c91-d23e-438d-90ca-3e5089d22ec1",
   "metadata": {},
   "outputs": [
    {
     "data": {
      "text/plain": [
       "(1797, 64)"
      ]
     },
     "execution_count": 44,
     "metadata": {},
     "output_type": "execute_result"
    }
   ],
   "source": [
    "digits[\"data\"].shape"
   ]
  },
  {
   "cell_type": "code",
   "execution_count": 47,
   "id": "431746d6-08d4-49b0-9cfe-65478aa8ae04",
   "metadata": {},
   "outputs": [
    {
     "data": {
      "text/plain": [
       "4"
      ]
     },
     "execution_count": 47,
     "metadata": {},
     "output_type": "execute_result"
    }
   ],
   "source": [
    "np.random.randint(0, 10)"
   ]
  },
  {
   "cell_type": "code",
   "execution_count": 58,
   "id": "9a6dda9e-8eee-43c5-b940-7fb2e043aecf",
   "metadata": {},
   "outputs": [],
   "source": [
    "x = np.loadtxt(\"mnist-model/sample-data/1159.txt\").reshape(1, 64)"
   ]
  },
  {
   "cell_type": "code",
   "execution_count": 63,
   "id": "9acc9448-b274-4c60-8cc3-18b8ab28382e",
   "metadata": {},
   "outputs": [
    {
     "data": {
      "text/plain": [
       "2"
      ]
     },
     "execution_count": 63,
     "metadata": {},
     "output_type": "execute_result"
    }
   ],
   "source": [
    "m.predict(x)[0]"
   ]
  },
  {
   "cell_type": "code",
   "execution_count": 62,
   "id": "a2f67462-c33e-462e-8c51-1846bbd32fe5",
   "metadata": {},
   "outputs": [
    {
     "data": {
      "text/plain": [
       "<matplotlib.image.AxesImage at 0x7fb01ba6ba30>"
      ]
     },
     "execution_count": 62,
     "metadata": {},
     "output_type": "execute_result"
    },
    {
     "data": {
      "image/png": "[encoded data removed]",
      "text/plain": [
       "<Figure size 432x288 with 1 Axes>"
      ]
     },
     "metadata": {
      "needs_background": "light"
     },
     "output_type": "display_data"
    }
   ],
   "source": [
    "plt.imshow(x.reshape(8, 8))"
   ]
  },
  {
   "cell_type": "code",
   "execution_count": null,
   "id": "7baf68f2-5a4f-451a-8d96-a503dd3605df",
   "metadata": {},
   "outputs": [],
   "source": []
  }
 ],
 "metadata": {
  "kernelspec": {
   "display_name": "Python [conda env:PIC16B] *",
   "language": "python",
   "name": "conda-env-PIC16B-py"
  },
  "language_info": {
   "codemirror_mode": {
    "name": "ipython",
    "version": 3
   },
   "file_extension": ".py",
   "mimetype": "text/x-python",
   "name": "python",
   "nbconvert_exporter": "python",
   "pygments_lexer": "ipython3",
   "version": "3.8.11"
  }
 },
 "nbformat": 4,
 "nbformat_minor": 5
}
